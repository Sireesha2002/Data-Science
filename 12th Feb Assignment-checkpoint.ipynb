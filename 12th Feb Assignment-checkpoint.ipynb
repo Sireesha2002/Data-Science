{
 "cells": [
  {
   "cell_type": "markdown",
   "id": "b0901f07",
   "metadata": {},
   "source": [
    "## Q1) What is an exception in python? Write the difference between exception and syntax errors."
   ]
  },
  {
   "cell_type": "markdown",
   "id": "d4ddeb33",
   "metadata": {},
   "source": [
    "An exception represents an error which comes in the code and obstructs the normal flow of the program. An exception occurs when the program is syntactically correct but the program results in an error.This will not terminate the program but changes the normal flow of it. Syntax error is caused by the wrong syntax in the code. It terminates the program. "
   ]
  },
  {
   "cell_type": "markdown",
   "id": "6e43d420",
   "metadata": {},
   "source": [
    "## Q2) What happens when an exception is not handled? Explain with example."
   ]
  },
  {
   "cell_type": "markdown",
   "id": "c8eeb932",
   "metadata": {},
   "source": [
    "When the exception in the program is not handled it results in an error. It would become difficult to catch that error in the case of large programs. So doing exception handling is a good practice."
   ]
  },
  {
   "cell_type": "markdown",
   "id": "ea1adc0c",
   "metadata": {},
   "source": [
    "#### Example:"
   ]
  },
  {
   "cell_type": "code",
   "execution_count": 2,
   "id": "337afc62",
   "metadata": {},
   "outputs": [
    {
     "ename": "FileNotFoundError",
     "evalue": "[Errno 2] No such file or directory: 'text.csv'",
     "output_type": "error",
     "traceback": [
      "\u001b[1;31m---------------------------------------------------------------------------\u001b[0m",
      "\u001b[1;31mFileNotFoundError\u001b[0m                         Traceback (most recent call last)",
      "\u001b[1;32mC:\\Users\\SIREES~1\\AppData\\Local\\Temp/ipykernel_18416/1875862363.py\u001b[0m in \u001b[0;36m<module>\u001b[1;34m\u001b[0m\n\u001b[1;32m----> 1\u001b[1;33m \u001b[0mf\u001b[0m \u001b[1;33m=\u001b[0m \u001b[0mopen\u001b[0m\u001b[1;33m(\u001b[0m\u001b[1;34m\"text.csv\"\u001b[0m\u001b[1;33m,\u001b[0m\u001b[1;34m'r'\u001b[0m\u001b[1;33m)\u001b[0m\u001b[1;33m\u001b[0m\u001b[1;33m\u001b[0m\u001b[0m\n\u001b[0m\u001b[0;32m      2\u001b[0m \u001b[0mprint\u001b[0m\u001b[1;33m(\u001b[0m\u001b[1;34m\"Hi\"\u001b[0m\u001b[1;33m)\u001b[0m\u001b[1;33m\u001b[0m\u001b[1;33m\u001b[0m\u001b[0m\n\u001b[0;32m      3\u001b[0m \u001b[0mf\u001b[0m\u001b[1;33m.\u001b[0m\u001b[0mclose\u001b[0m\u001b[1;33m(\u001b[0m\u001b[1;33m)\u001b[0m\u001b[1;33m\u001b[0m\u001b[1;33m\u001b[0m\u001b[0m\n",
      "\u001b[1;31mFileNotFoundError\u001b[0m: [Errno 2] No such file or directory: 'text.csv'"
     ]
    }
   ],
   "source": [
    "f = open(\"text.csv\",'r')\n",
    "print(\"Hi\")\n",
    "f.close()"
   ]
  },
  {
   "cell_type": "markdown",
   "id": "bfd603f8",
   "metadata": {},
   "source": [
    "Here we got a FileNotFoundError exception and due to this the next line is also not executing. To prevent this from occuring we can use try exception block."
   ]
  },
  {
   "cell_type": "code",
   "execution_count": 3,
   "id": "483bbd26",
   "metadata": {},
   "outputs": [
    {
     "name": "stdout",
     "output_type": "stream",
     "text": [
      "There is an error with the code [Errno 2] No such file or directory: 'text.csv'\n",
      "Hi\n"
     ]
    }
   ],
   "source": [
    "try:\n",
    "    f = open(\"text.csv\",'r')\n",
    "except Exception as e:\n",
    "    print(\"There is an error with the code\",e)\n",
    "\n",
    "print(\"Hi\")"
   ]
  },
  {
   "cell_type": "markdown",
   "id": "26c267c5",
   "metadata": {},
   "source": [
    "## Q3) Which python statements are used to catch and handle exceptions? Explain with an example."
   ]
  },
  {
   "cell_type": "markdown",
   "id": "a38ba595",
   "metadata": {},
   "source": [
    "The try and except blocks in python are used to catch and handle exceptions."
   ]
  },
  {
   "cell_type": "markdown",
   "id": "9ca25fcb",
   "metadata": {},
   "source": [
    "#### Example:"
   ]
  },
  {
   "cell_type": "code",
   "execution_count": 4,
   "id": "93c33882",
   "metadata": {},
   "outputs": [
    {
     "name": "stdout",
     "output_type": "stream",
     "text": [
      "There is an error with the code [Errno 2] No such file or directory: 'text.csv'\n"
     ]
    }
   ],
   "source": [
    "try:\n",
    "    f = open(\"text.csv\",'r')\n",
    "except Exception as e:\n",
    "    print(\"There is an error with the code\",e)"
   ]
  },
  {
   "cell_type": "markdown",
   "id": "6237a0ac",
   "metadata": {},
   "source": [
    "## Q4) Explain with an example:\n",
    "            a) try and else\n",
    "            b) finally\n",
    "            c) raise"
   ]
  },
  {
   "cell_type": "markdown",
   "id": "89dfb34f",
   "metadata": {},
   "source": [
    "a) else block executes when the try block executes without an exception.\n",
    "b) finally block always excutes independent of the try exception blocks.\n",
    "c) raise keyword is used in the case of custom exception handling. It is used to raise an exception."
   ]
  },
  {
   "cell_type": "markdown",
   "id": "d5526c3b",
   "metadata": {},
   "source": [
    "#### Example:"
   ]
  },
  {
   "cell_type": "code",
   "execution_count": 5,
   "id": "c430f97b",
   "metadata": {},
   "outputs": [
    {
     "name": "stdout",
     "output_type": "stream",
     "text": [
      "There is an error with the code [Errno 2] No such file or directory: 'text.csv'\n",
      "This will always execute.\n"
     ]
    }
   ],
   "source": [
    "try:\n",
    "    f = open(\"text.csv\",'r')\n",
    "except Exception as e:\n",
    "    print(\"There is an error with the code\",e)\n",
    "else:\n",
    "    f.close()\n",
    "    print(\"Hi\")\n",
    "finally:\n",
    "    print(\"This will always execute.\")"
   ]
  },
  {
   "cell_type": "code",
   "execution_count": 6,
   "id": "760f1b39",
   "metadata": {},
   "outputs": [
    {
     "name": "stdout",
     "output_type": "stream",
     "text": [
      "enter your age21\n",
      "age is valid\n"
     ]
    }
   ],
   "source": [
    "class validateage(Exception):\n",
    "    def __init__(self, msg):\n",
    "        self.msg = msg\n",
    "        \n",
    "def validate_age(age):\n",
    "    if age < 0:\n",
    "        raise validateage(\"age should not be lesser than zero\")\n",
    "    elif age > 200:\n",
    "        raise validateage(\"age is too high\")\n",
    "    else: \n",
    "        print(\"age is valid\")\n",
    "        \n",
    "try:\n",
    "    age = int(input(\"enter your age\"))\n",
    "    validate_age(age)\n",
    "except validateage as e:\n",
    "    print(e)"
   ]
  },
  {
   "cell_type": "markdown",
   "id": "30bf9125",
   "metadata": {},
   "source": [
    "## Q5) What are custom exceptions in python? Why do we need custom exceptions? Explain with an example."
   ]
  },
  {
   "cell_type": "markdown",
   "id": "87b0918a",
   "metadata": {},
   "source": [
    "Custom exceptions are the user-defined exceptions in python. Generally custom exceptions are used when the code is syntactically correct and without any exceptions, but we want it to throw an exception for certain inputs. So we customize exception according to our condition."
   ]
  },
  {
   "cell_type": "markdown",
   "id": "d94cf643",
   "metadata": {},
   "source": [
    "#### Example:"
   ]
  },
  {
   "cell_type": "code",
   "execution_count": 7,
   "id": "ec9ac41d",
   "metadata": {},
   "outputs": [
    {
     "name": "stdout",
     "output_type": "stream",
     "text": [
      "enter your age-12\n",
      "age should not be lesser than zero\n"
     ]
    }
   ],
   "source": [
    "class validateage(Exception):\n",
    "    def __init__(self, msg):\n",
    "        self.msg = msg\n",
    "        \n",
    "def validate_age(age):\n",
    "    if age < 0:\n",
    "        raise validateage(\"age should not be lesser than zero\")\n",
    "    elif age > 200:\n",
    "        raise validateage(\"age is too high\")\n",
    "    else: \n",
    "        print(\"age is valid\")\n",
    "        \n",
    "try:\n",
    "    age = int(input(\"enter your age\"))\n",
    "    validate_age(age)\n",
    "except validateage as e:\n",
    "    print(e)"
   ]
  },
  {
   "cell_type": "markdown",
   "id": "2507de17",
   "metadata": {},
   "source": [
    "## Q6) Create a custom exception class. Use this class to handle an exception."
   ]
  },
  {
   "cell_type": "code",
   "execution_count": 13,
   "id": "a32b2996",
   "metadata": {},
   "outputs": [
    {
     "name": "stdout",
     "output_type": "stream",
     "text": [
      "Enter the time taken12\n",
      "Time is valid\n"
     ]
    }
   ],
   "source": [
    "class timetaken(Exception):\n",
    "    def __init__(self, msg):\n",
    "        self.msg = msg\n",
    "        \n",
    "def time_taken(time):\n",
    "    if time == 0:\n",
    "        raise timetaken(\"Time is invalid\")\n",
    "    else:\n",
    "        print(\"Time is valid\")\n",
    "        \n",
    "try:\n",
    "    time = int(input(\"Enter the time taken\"))\n",
    "    time_taken(time)\n",
    "except timetaken as e:\n",
    "    print(e)"
   ]
  }
 ],
 "metadata": {
  "kernelspec": {
   "display_name": "Python 3 (ipykernel)",
   "language": "python",
   "name": "python3"
  },
  "language_info": {
   "codemirror_mode": {
    "name": "ipython",
    "version": 3
   },
   "file_extension": ".py",
   "mimetype": "text/x-python",
   "name": "python",
   "nbconvert_exporter": "python",
   "pygments_lexer": "ipython3",
   "version": "3.9.1"
  }
 },
 "nbformat": 4,
 "nbformat_minor": 5
}
