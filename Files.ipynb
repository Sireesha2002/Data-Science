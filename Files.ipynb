{
 "cells": [
  {
   "cell_type": "markdown",
   "id": "fbb051dd",
   "metadata": {},
   "source": [
    "# Working with files"
   ]
  },
  {
   "cell_type": "markdown",
   "id": "a882f80d",
   "metadata": {},
   "source": [
    "## \"w\" mode:"
   ]
  },
  {
   "cell_type": "code",
   "execution_count": 1,
   "id": "daddf6a0",
   "metadata": {},
   "outputs": [],
   "source": [
    "f = open(\"test.txt\", 'w')"
   ]
  },
  {
   "cell_type": "code",
   "execution_count": 2,
   "id": "d7b94f89",
   "metadata": {},
   "outputs": [
    {
     "data": {
      "text/plain": [
       "'C:\\\\Users\\\\Sireesha Kuchimanchi\\\\Data Science[PW]'"
      ]
     },
     "execution_count": 2,
     "metadata": {},
     "output_type": "execute_result"
    }
   ],
   "source": [
    "pwd #tells about the current directory where the file is located"
   ]
  },
  {
   "cell_type": "code",
   "execution_count": 8,
   "id": "f5c8ef70",
   "metadata": {},
   "outputs": [
    {
     "name": "stdout",
     "output_type": "stream",
     "text": [
      " Volume in drive C is OS\n",
      " Volume Serial Number is 6AD0-BC1D\n",
      "\n",
      " Directory of C:\\Users\\Sireesha Kuchimanchi\\Data Science[PW]\n",
      "\n",
      "18-04-2023  10:57    <DIR>          .\n",
      "14-04-2023  20:47    <DIR>          ..\n",
      "14-04-2023  20:47    <DIR>          .ipynb_checkpoints\n",
      "18-04-2023  10:54                 0 test.txt\n",
      "18-04-2023  10:57             2,565 Untitled.ipynb\n",
      "               2 File(s)          2,565 bytes\n",
      "               3 Dir(s)  383,107,551,232 bytes free\n"
     ]
    }
   ],
   "source": [
    "ls #shows all the files present inside the working directory"
   ]
  },
  {
   "cell_type": "code",
   "execution_count": 9,
   "id": "9f523cb1",
   "metadata": {},
   "outputs": [
    {
     "data": {
      "text/plain": [
       "44"
      ]
     },
     "execution_count": 9,
     "metadata": {},
     "output_type": "execute_result"
    }
   ],
   "source": [
    "f.write(\"This is my first write operation in the file\")"
   ]
  },
  {
   "cell_type": "code",
   "execution_count": null,
   "id": "cd140b2c",
   "metadata": {},
   "outputs": [],
   "source": [
    "f.close() #unless the close function is called the wite() will not write anything "
   ]
  },
  {
   "cell_type": "markdown",
   "id": "1a47866d",
   "metadata": {},
   "source": [
    "## \"a\" mode:"
   ]
  },
  {
   "cell_type": "markdown",
   "id": "011bd911",
   "metadata": {},
   "source": [
    "\"w\" mode writes anything into the text. If we want to write more information into the file and calls write operation it will erase all the previous information and writes the new one. To avoid this situation we use \"a\" mode.This will append the new information at the end of the file."
   ]
  },
  {
   "cell_type": "code",
   "execution_count": 12,
   "id": "453159d0",
   "metadata": {},
   "outputs": [],
   "source": [
    "f = open(\"test.txt\", 'a')"
   ]
  },
  {
   "cell_type": "code",
   "execution_count": 14,
   "id": "84c8619e",
   "metadata": {},
   "outputs": [
    {
     "data": {
      "text/plain": [
       "284"
      ]
     },
     "execution_count": 14,
     "metadata": {},
     "output_type": "execute_result"
    }
   ],
   "source": [
    "f.write(\"'w' mode writes anything into the text. If we want to write more information into the file and calls write operation it will erase all the previous information and writes the new one. To avoid this situation we use 'a' mode.This will append the new information at the end of the file.\")"
   ]
  },
  {
   "cell_type": "code",
   "execution_count": 15,
   "id": "4b52ffac",
   "metadata": {},
   "outputs": [],
   "source": [
    "f.close()"
   ]
  },
  {
   "cell_type": "code",
   "execution_count": 16,
   "id": "9da21bb1",
   "metadata": {},
   "outputs": [],
   "source": [
    "data = open(\"test.txt\", 'r')"
   ]
  },
  {
   "cell_type": "code",
   "execution_count": 17,
   "id": "7e77701d",
   "metadata": {},
   "outputs": [
    {
     "data": {
      "text/plain": [
       "\"This is my first write operation in the file'w' mode writes anything into the text. If we want to write more information into the file and calls write operation it will erase all the previous information and writes the new one. To avoid this situation we use 'a' mode.This will append the new information at the end of the file.\""
      ]
     },
     "execution_count": 17,
     "metadata": {},
     "output_type": "execute_result"
    }
   ],
   "source": [
    "data.read()"
   ]
  },
  {
   "cell_type": "markdown",
   "id": "5db5c4be",
   "metadata": {},
   "source": [
    "## seek():"
   ]
  },
  {
   "cell_type": "markdown",
   "id": "2ec4155e",
   "metadata": {},
   "source": [
    "If we are going to call the data.read() again, we do not get any information."
   ]
  },
  {
   "cell_type": "code",
   "execution_count": 19,
   "id": "0748fe4c",
   "metadata": {},
   "outputs": [
    {
     "data": {
      "text/plain": [
       "''"
      ]
     },
     "execution_count": 19,
     "metadata": {},
     "output_type": "execute_result"
    }
   ],
   "source": [
    "data.read()"
   ]
  },
  {
   "cell_type": "markdown",
   "id": "cc1fc60f",
   "metadata": {},
   "source": [
    "When we first called the data.read(), the cursor goes through each word and stops at the end of the text. That's the reason why we do not get any text if the data.read() is called again."
   ]
  },
  {
   "cell_type": "markdown",
   "id": "b983a5e6",
   "metadata": {},
   "source": [
    "To skip this situation we use \"seek()\". This function allows us to place the cursor at our desired location."
   ]
  },
  {
   "cell_type": "code",
   "execution_count": 20,
   "id": "b4da104c",
   "metadata": {},
   "outputs": [
    {
     "data": {
      "text/plain": [
       "\"This is my first write operation in the file'w' mode writes anything into the text. If we want to write more information into the file and calls write operation it will erase all the previous information and writes the new one. To avoid this situation we use 'a' mode.This will append the new information at the end of the file.\""
      ]
     },
     "execution_count": 20,
     "metadata": {},
     "output_type": "execute_result"
    }
   ],
   "source": [
    "data.seek(0)#the cursor is placed at the 0th location\n",
    "data.read()"
   ]
  },
  {
   "cell_type": "code",
   "execution_count": 21,
   "id": "25b39946",
   "metadata": {},
   "outputs": [
    {
     "data": {
      "text/plain": [
       "''"
      ]
     },
     "execution_count": 21,
     "metadata": {},
     "output_type": "execute_result"
    }
   ],
   "source": [
    "data.read()"
   ]
  },
  {
   "cell_type": "markdown",
   "id": "3cbb4eef",
   "metadata": {},
   "source": [
    "If we want to call read again, we don't get any text. We have to position the cursor again in our desired location."
   ]
  },
  {
   "cell_type": "code",
   "execution_count": 24,
   "id": "f2220dd4",
   "metadata": {},
   "outputs": [
    {
     "data": {
      "text/plain": [
       "\"ite more information into the file and calls write operation it will erase all the previous information and writes the new one. To avoid this situation we use 'a' mode.This will append the new information at the end of the file.\""
      ]
     },
     "execution_count": 24,
     "metadata": {},
     "output_type": "execute_result"
    }
   ],
   "source": [
    "data.seek(100)\n",
    "data.read()"
   ]
  },
  {
   "cell_type": "markdown",
   "id": "45c6f6f6",
   "metadata": {},
   "source": [
    "Another way to read the text is by using for loop."
   ]
  },
  {
   "cell_type": "code",
   "execution_count": 25,
   "id": "d3b0b235",
   "metadata": {},
   "outputs": [
    {
     "name": "stdout",
     "output_type": "stream",
     "text": [
      "This is my first write operation in the file'w' mode writes anything into the text. If we want to write more information into the file and calls write operation it will erase all the previous information and writes the new one. To avoid this situation we use 'a' mode.This will append the new information at the end of the file.\n"
     ]
    }
   ],
   "source": [
    "data1 = open(\"test.txt\",'r')\n",
    "for i in data1:\n",
    "    print(i)\n"
   ]
  },
  {
   "cell_type": "markdown",
   "id": "0a332d1f",
   "metadata": {},
   "source": [
    "## Different operations"
   ]
  },
  {
   "cell_type": "markdown",
   "id": "ed8a24bd",
   "metadata": {},
   "source": [
    "### To get size:"
   ]
  },
  {
   "cell_type": "code",
   "execution_count": 27,
   "id": "bf6babad",
   "metadata": {},
   "outputs": [
    {
     "data": {
      "text/plain": [
       "328"
      ]
     },
     "execution_count": 27,
     "metadata": {},
     "output_type": "execute_result"
    }
   ],
   "source": [
    "import os\n",
    "os.path.getsize(\"test.txt\")"
   ]
  },
  {
   "cell_type": "markdown",
   "id": "35da1d99",
   "metadata": {},
   "source": [
    "### To copy a file:"
   ]
  },
  {
   "cell_type": "code",
   "execution_count": 33,
   "id": "40e8d54e",
   "metadata": {},
   "outputs": [],
   "source": [
    "import shutil\n",
    "shutil.copy(\"test.txt\", \"text.txt\")"
   ]
  },
  {
   "cell_type": "markdown",
   "id": "385af890",
   "metadata": {},
   "source": [
    "### Delete operation:"
   ]
  },
  {
   "cell_type": "code",
   "execution_count": 34,
   "id": "4a393f91",
   "metadata": {},
   "outputs": [
    {
     "ename": "PermissionError",
     "evalue": "[WinError 32] The process cannot access the file because it is being used by another process: 'test.txt'",
     "output_type": "error",
     "traceback": [
      "\u001b[1;31m---------------------------------------------------------------------------\u001b[0m",
      "\u001b[1;31mPermissionError\u001b[0m                           Traceback (most recent call last)",
      "\u001b[1;32mC:\\Users\\SIREES~1\\AppData\\Local\\Temp/ipykernel_2412/2404772022.py\u001b[0m in \u001b[0;36m<module>\u001b[1;34m\u001b[0m\n\u001b[1;32m----> 1\u001b[1;33m \u001b[0mos\u001b[0m\u001b[1;33m.\u001b[0m\u001b[0mremove\u001b[0m\u001b[1;33m(\u001b[0m\u001b[1;34m\"test.txt\"\u001b[0m\u001b[1;33m)\u001b[0m\u001b[1;33m\u001b[0m\u001b[1;33m\u001b[0m\u001b[0m\n\u001b[0m",
      "\u001b[1;31mPermissionError\u001b[0m: [WinError 32] The process cannot access the file because it is being used by another process: 'test.txt'"
     ]
    }
   ],
   "source": [
    "os.remove(\"test.txt\")"
   ]
  },
  {
   "cell_type": "markdown",
   "id": "55fcac7d",
   "metadata": {},
   "source": [
    "### Another way to open a file:"
   ]
  },
  {
   "cell_type": "code",
   "execution_count": 35,
   "id": "6fd0bfda",
   "metadata": {},
   "outputs": [
    {
     "name": "stdout",
     "output_type": "stream",
     "text": [
      "This is my first write operation in the file'w' mode writes anything into the text. If we want to write more information into the file and calls write operation it will erase all the previous information and writes the new one. To avoid this situation we use 'a' mode.This will append the new information at the end of the file.\n"
     ]
    }
   ],
   "source": [
    "with open(\"text.txt\", 'r') as f:\n",
    "    print(f.read())"
   ]
  },
  {
   "cell_type": "markdown",
   "id": "78112dbe",
   "metadata": {},
   "source": [
    "### Renaming a file:"
   ]
  },
  {
   "cell_type": "code",
   "execution_count": 36,
   "id": "a4668e5b",
   "metadata": {},
   "outputs": [],
   "source": [
    "os.rename(\"text.txt\",\"test1.txt\")"
   ]
  },
  {
   "cell_type": "markdown",
   "id": "403ecabb",
   "metadata": {},
   "source": [
    "# Reading and writing files"
   ]
  },
  {
   "cell_type": "code",
   "execution_count": 38,
   "id": "122c4fa0",
   "metadata": {},
   "outputs": [],
   "source": [
    "data = {\n",
    "    \"name\" : \"Sireesha Kuchimanchi\",\n",
    "    \"mail_id\" : \"siri@gmail.com\",\n",
    "    \"phone_number\" : 868686,\n",
    "    \"subject\" : [\"data\", \"science\", \"pw skills\"]\n",
    "}"
   ]
  },
  {
   "cell_type": "code",
   "execution_count": 39,
   "id": "726a5e13",
   "metadata": {},
   "outputs": [],
   "source": [
    "import json"
   ]
  },
  {
   "cell_type": "markdown",
   "id": "e3fa4ed2",
   "metadata": {},
   "source": [
    "1)Function to write a file - dump()\n",
    "2)Function to read a file - load()"
   ]
  },
  {
   "cell_type": "code",
   "execution_count": 40,
   "id": "6875f501",
   "metadata": {},
   "outputs": [],
   "source": [
    "with open(\"test1.json\",'w') as f:\n",
    "    json.dump(data,f)"
   ]
  },
  {
   "cell_type": "code",
   "execution_count": 41,
   "id": "ce512c86",
   "metadata": {},
   "outputs": [],
   "source": [
    "with open(\"test1.json\",'r') as f:\n",
    "    data1 = json.load(f)"
   ]
  },
  {
   "cell_type": "code",
   "execution_count": 42,
   "id": "6573eaee",
   "metadata": {},
   "outputs": [
    {
     "data": {
      "text/plain": [
       "{'name': 'Sireesha Kuchimanchi',\n",
       " 'mail_id': 'siri@gmail.com',\n",
       " 'phone_number': 868686,\n",
       " 'subject': ['data', 'science', 'pw skills']}"
      ]
     },
     "execution_count": 42,
     "metadata": {},
     "output_type": "execute_result"
    }
   ],
   "source": [
    "data1"
   ]
  },
  {
   "cell_type": "code",
   "execution_count": null,
   "id": "4e052786",
   "metadata": {},
   "outputs": [],
   "source": []
  }
 ],
 "metadata": {
  "kernelspec": {
   "display_name": "Python 3 (ipykernel)",
   "language": "python",
   "name": "python3"
  },
  "language_info": {
   "codemirror_mode": {
    "name": "ipython",
    "version": 3
   },
   "file_extension": ".py",
   "mimetype": "text/x-python",
   "name": "python",
   "nbconvert_exporter": "python",
   "pygments_lexer": "ipython3",
   "version": "3.9.1"
  }
 },
 "nbformat": 4,
 "nbformat_minor": 5
}
